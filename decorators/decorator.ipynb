{
 "cells": [
  {
   "cell_type": "code",
   "execution_count": 1,
   "id": "ed9ff2ba",
   "metadata": {},
   "outputs": [
    {
     "data": {
      "text/plain": [
       "'Hello, World'"
      ]
     },
     "execution_count": 1,
     "metadata": {},
     "output_type": "execute_result"
    }
   ],
   "source": [
    "# Function Copy\n",
    "\n",
    "def welcome():\n",
    "    return \"Hello, World\"\n",
    "\n",
    "welcome() "
   ]
  },
  {
   "cell_type": "code",
   "execution_count": 2,
   "id": "02d4fef1",
   "metadata": {},
   "outputs": [],
   "source": [
    "welcome_copy = welcome"
   ]
  },
  {
   "cell_type": "code",
   "execution_count": 3,
   "id": "197957d0",
   "metadata": {},
   "outputs": [
    {
     "data": {
      "text/plain": [
       "<function __main__.welcome()>"
      ]
     },
     "execution_count": 3,
     "metadata": {},
     "output_type": "execute_result"
    }
   ],
   "source": [
    "welcome_copy"
   ]
  },
  {
   "cell_type": "code",
   "execution_count": 4,
   "id": "d6b0b051",
   "metadata": {},
   "outputs": [
    {
     "data": {
      "text/plain": [
       "'Hello, World'"
      ]
     },
     "execution_count": 4,
     "metadata": {},
     "output_type": "execute_result"
    }
   ],
   "source": [
    "welcome_copy()"
   ]
  },
  {
   "cell_type": "code",
   "execution_count": 5,
   "id": "2941df19",
   "metadata": {},
   "outputs": [],
   "source": [
    "del welcome"
   ]
  },
  {
   "cell_type": "code",
   "execution_count": 6,
   "id": "2649d90a",
   "metadata": {},
   "outputs": [
    {
     "data": {
      "text/plain": [
       "'Hello, World'"
      ]
     },
     "execution_count": 6,
     "metadata": {},
     "output_type": "execute_result"
    }
   ],
   "source": [
    "welcome_copy()"
   ]
  },
  {
   "cell_type": "code",
   "execution_count": 15,
   "id": "7e9a9351",
   "metadata": {},
   "outputs": [],
   "source": [
    "# Closures\n",
    "\n",
    "def main_welcome(name):\n",
    "    msg = \"Welcome\"\n",
    "    def sub_welcome_method():\n",
    "        print(\"Welcome to the advance python course\")\n",
    "        print(f\"{msg}, {name}\")\n",
    "        print(\"Please learn the concepts properly\")\n",
    "    return sub_welcome_method"
   ]
  },
  {
   "cell_type": "code",
   "execution_count": 16,
   "id": "cca678c1",
   "metadata": {},
   "outputs": [],
   "source": [
    "welcome_abhishek = main_welcome(\"Abhishek\")"
   ]
  },
  {
   "cell_type": "code",
   "execution_count": 17,
   "id": "65ab298f",
   "metadata": {},
   "outputs": [
    {
     "name": "stdout",
     "output_type": "stream",
     "text": [
      "Welcome to the advance python course\n",
      "Welcome, Abhishek\n",
      "Please learn the concepts properly\n"
     ]
    }
   ],
   "source": [
    "welcome_abhishek()"
   ]
  },
  {
   "cell_type": "code",
   "execution_count": 18,
   "id": "fbddae66",
   "metadata": {},
   "outputs": [],
   "source": [
    "def main_welcome(func, name):\n",
    "    msg = \"Welcome\"\n",
    "    def sub_welcome_method():\n",
    "        print(\"Welcome to the advance python course\")\n",
    "        func(f\"{msg}, {name}\")\n",
    "        print(\"Please learn the concepts properly\")\n",
    "    return sub_welcome_method"
   ]
  },
  {
   "cell_type": "code",
   "execution_count": 19,
   "id": "af443a8f",
   "metadata": {},
   "outputs": [],
   "source": [
    "welcome_john = main_welcome(print, \"John\")"
   ]
  },
  {
   "cell_type": "code",
   "execution_count": 20,
   "id": "9f16949a",
   "metadata": {},
   "outputs": [
    {
     "name": "stdout",
     "output_type": "stream",
     "text": [
      "Welcome to the advance python course\n",
      "Welcome, John\n",
      "Please learn the concepts properly\n"
     ]
    }
   ],
   "source": [
    "welcome_john()"
   ]
  },
  {
   "cell_type": "code",
   "execution_count": 31,
   "id": "5597c30b",
   "metadata": {},
   "outputs": [],
   "source": [
    "# Decorator\n",
    "\n",
    "def welcome_decorator(func):\n",
    "    def runner(*args, **kwargs):\n",
    "        print(\"Welcome to the python course\")\n",
    "        func(*args, **kwargs)\n",
    "        print(\"Hope, you had wonderful time\")\n",
    "    return runner"
   ]
  },
  {
   "cell_type": "code",
   "execution_count": 32,
   "id": "c8646350",
   "metadata": {},
   "outputs": [],
   "source": [
    "@welcome_decorator\n",
    "def enroll_student(name):\n",
    "    print(f\"Hello, {name}\")"
   ]
  },
  {
   "cell_type": "code",
   "execution_count": 33,
   "id": "01acb4e8",
   "metadata": {},
   "outputs": [
    {
     "name": "stdout",
     "output_type": "stream",
     "text": [
      "Welcome to the python course\n",
      "Hello, Abhishek\n",
      "Hope, you had wonderful time\n"
     ]
    }
   ],
   "source": [
    "enroll_student(\"Abhishek\")"
   ]
  },
  {
   "cell_type": "code",
   "execution_count": 34,
   "id": "4134003b",
   "metadata": {},
   "outputs": [
    {
     "name": "stdout",
     "output_type": "stream",
     "text": [
      "Hello!\n",
      "Hello!\n",
      "Hello!\n"
     ]
    }
   ],
   "source": [
    "def repeat_decorator(times):\n",
    "    def decorator(func):\n",
    "        def wrapper(*args, **kwargs):\n",
    "            for _ in range(times):\n",
    "                func(*args, **kwargs)\n",
    "        return wrapper\n",
    "    return decorator\n",
    "\n",
    "@repeat_decorator(3)  # Pass arguments to the decorator\n",
    "def say_hello():\n",
    "    print(\"Hello!\")\n",
    "\n",
    "say_hello()"
   ]
  }
 ],
 "metadata": {
  "kernelspec": {
   "display_name": "venv (3.13.3)",
   "language": "python",
   "name": "python3"
  },
  "language_info": {
   "codemirror_mode": {
    "name": "ipython",
    "version": 3
   },
   "file_extension": ".py",
   "mimetype": "text/x-python",
   "name": "python",
   "nbconvert_exporter": "python",
   "pygments_lexer": "ipython3",
   "version": "3.13.3"
  }
 },
 "nbformat": 4,
 "nbformat_minor": 5
}
