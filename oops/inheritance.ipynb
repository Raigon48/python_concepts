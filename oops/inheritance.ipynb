{
 "cells": [
  {
   "cell_type": "code",
   "execution_count": 3,
   "id": "e3a29ce3",
   "metadata": {},
   "outputs": [],
   "source": [
    "class Car:\n",
    "    def __init__(self, windows, doors, engine_type):\n",
    "        self.windows = windows\n",
    "        self.doors = doors\n",
    "        self.engine_type = engine_type\n",
    "    \n",
    "    def drive(self):\n",
    "        print(f\"The person will drive the {self.engine_type} car.\")"
   ]
  },
  {
   "cell_type": "code",
   "execution_count": 5,
   "id": "aaa397e8",
   "metadata": {},
   "outputs": [
    {
     "name": "stdout",
     "output_type": "stream",
     "text": [
      "The person will drive the Petrol car.\n",
      "None\n"
     ]
    }
   ],
   "source": [
    "car1 = Car(4, 5, \"Petrol\")\n",
    "print(car1.drive())"
   ]
  },
  {
   "cell_type": "code",
   "execution_count": 6,
   "id": "864eb7bb",
   "metadata": {},
   "outputs": [],
   "source": [
    "class Tesla(Car):\n",
    "    def __init__(self, windows, doors, engine_type, is_self_driving):\n",
    "        super().__init__(windows, doors, engine_type)\n",
    "        self.is_self_driving = is_self_driving\n",
    "    \n",
    "    def self_driving(self):\n",
    "        print(f\"Tesla supports self driving: {self.is_self_driving}\")\n",
    "    "
   ]
  },
  {
   "cell_type": "code",
   "execution_count": 8,
   "id": "67bc8366",
   "metadata": {},
   "outputs": [
    {
     "name": "stdout",
     "output_type": "stream",
     "text": [
      "Tesla supports self driving: True\n",
      "The person will drive the Electric car.\n"
     ]
    }
   ],
   "source": [
    "tesla1 = Tesla(4, 5, 'Electric', True)\n",
    "tesla1.self_driving()\n",
    "tesla1.drive()"
   ]
  },
  {
   "cell_type": "code",
   "execution_count": 11,
   "id": "6115b5b6",
   "metadata": {},
   "outputs": [],
   "source": [
    "### Multiple Inheritance\n",
    "## When a class inherits from more than one base class.\n",
    "\n",
    "# Base class 1\n",
    "class Animal:\n",
    "    def __init__(self, name):\n",
    "        self.name = name\n",
    "    \n",
    "    def speak(self):\n",
    "        print(\"Subclass must implement this method\")\n",
    "\n",
    "# Base class 2\n",
    "class Pet:\n",
    "    def __init__(self, owner):\n",
    "        self.owner = owner\n",
    "        \n",
    "\n",
    "class Dog(Animal, Pet):\n",
    "    def __init__(self, name, owner):\n",
    "        Animal.__init__(self, name)\n",
    "        Pet.__init__(self, owner)\n",
    "    \n",
    "    def speak(self):\n",
    "        return f\"{self.name} says woof!\"\n"
   ]
  },
  {
   "cell_type": "code",
   "execution_count": 14,
   "id": "4b68e8b6",
   "metadata": {},
   "outputs": [
    {
     "name": "stdout",
     "output_type": "stream",
     "text": [
      "Tommy says woof!\n",
      "Owner: John\n"
     ]
    }
   ],
   "source": [
    "dog1 = Dog(\"Tommy\", \"John\")\n",
    "print(dog1.speak())\n",
    "print(f\"Owner: {dog1.owner}\")"
   ]
  },
  {
   "cell_type": "code",
   "execution_count": null,
   "id": "203b9839",
   "metadata": {},
   "outputs": [],
   "source": []
  }
 ],
 "metadata": {
  "kernelspec": {
   "display_name": "venv (3.13.3)",
   "language": "python",
   "name": "python3"
  },
  "language_info": {
   "codemirror_mode": {
    "name": "ipython",
    "version": 3
   },
   "file_extension": ".py",
   "mimetype": "text/x-python",
   "name": "python",
   "nbconvert_exporter": "python",
   "pygments_lexer": "ipython3",
   "version": "3.13.3"
  }
 },
 "nbformat": 4,
 "nbformat_minor": 5
}
