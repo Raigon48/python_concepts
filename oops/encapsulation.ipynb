{
 "cells": [
  {
   "cell_type": "markdown",
   "id": "b51719d7",
   "metadata": {},
   "source": [
    "Encapsulation is concept of wrapping data (properties/variable) and methods together as a single unit. it restricts direct access to some of the objects's components, which is a means of preventing accidental interference and misuse of data."
   ]
  },
  {
   "cell_type": "code",
   "execution_count": 1,
   "id": "3ddeaf51",
   "metadata": {},
   "outputs": [
    {
     "name": "stdout",
     "output_type": "stream",
     "text": [
      "Abhishek\n"
     ]
    }
   ],
   "source": [
    "# Encapsulation with Getter and Setter methods\n",
    "# Public, Protected and Private variables or access modifiers\n",
    "\n",
    "\n",
    "class Person:\n",
    "    def __init__(self, name, age):\n",
    "        self.name = name # public property\n",
    "        self.aga = age # public property\n",
    "\n",
    "person = Person(\"Abhishek\", 24)\n",
    "print(person.name)\n"
   ]
  },
  {
   "cell_type": "code",
   "execution_count": 2,
   "id": "3bfc076e",
   "metadata": {},
   "outputs": [
    {
     "data": {
      "text/plain": [
       "['__class__',\n",
       " '__delattr__',\n",
       " '__dict__',\n",
       " '__dir__',\n",
       " '__doc__',\n",
       " '__eq__',\n",
       " '__firstlineno__',\n",
       " '__format__',\n",
       " '__ge__',\n",
       " '__getattribute__',\n",
       " '__getstate__',\n",
       " '__gt__',\n",
       " '__hash__',\n",
       " '__init__',\n",
       " '__init_subclass__',\n",
       " '__le__',\n",
       " '__lt__',\n",
       " '__module__',\n",
       " '__ne__',\n",
       " '__new__',\n",
       " '__reduce__',\n",
       " '__reduce_ex__',\n",
       " '__repr__',\n",
       " '__setattr__',\n",
       " '__sizeof__',\n",
       " '__static_attributes__',\n",
       " '__str__',\n",
       " '__subclasshook__',\n",
       " '__weakref__',\n",
       " 'aga',\n",
       " 'name']"
      ]
     },
     "execution_count": 2,
     "metadata": {},
     "output_type": "execute_result"
    }
   ],
   "source": [
    "dir(person)"
   ]
  },
  {
   "cell_type": "code",
   "execution_count": 9,
   "id": "8dccb132",
   "metadata": {},
   "outputs": [],
   "source": [
    "class Person:\n",
    "    def __init__(self, name, age, gender):\n",
    "        self.name = name # public property\n",
    "        self._age = age # protected property\n",
    "        self.__gender = gender # private property\n",
    "\n",
    "\n",
    "person = Person(\"Abhishek\", 24, \"M\")\n",
    "\n",
    "# print(person._Person__age)\n"
   ]
  },
  {
   "cell_type": "code",
   "execution_count": 10,
   "id": "fe08b0bf",
   "metadata": {},
   "outputs": [
    {
     "data": {
      "text/plain": [
       "['_Person__gender',\n",
       " '__class__',\n",
       " '__delattr__',\n",
       " '__dict__',\n",
       " '__dir__',\n",
       " '__doc__',\n",
       " '__eq__',\n",
       " '__firstlineno__',\n",
       " '__format__',\n",
       " '__ge__',\n",
       " '__getattribute__',\n",
       " '__getstate__',\n",
       " '__gt__',\n",
       " '__hash__',\n",
       " '__init__',\n",
       " '__init_subclass__',\n",
       " '__le__',\n",
       " '__lt__',\n",
       " '__module__',\n",
       " '__ne__',\n",
       " '__new__',\n",
       " '__reduce__',\n",
       " '__reduce_ex__',\n",
       " '__repr__',\n",
       " '__setattr__',\n",
       " '__sizeof__',\n",
       " '__static_attributes__',\n",
       " '__str__',\n",
       " '__subclasshook__',\n",
       " '__weakref__',\n",
       " '_age',\n",
       " 'name']"
      ]
     },
     "execution_count": 10,
     "metadata": {},
     "output_type": "execute_result"
    }
   ],
   "source": [
    "dir(person)\n"
   ]
  },
  {
   "cell_type": "code",
   "execution_count": 18,
   "id": "0aabd1a3",
   "metadata": {},
   "outputs": [],
   "source": [
    "class Employee(Person):\n",
    "    def __init__(self, name, age, gender):\n",
    "        super().__init__(name, age, gender)\n",
    "    \n",
    "    def print_properties(self):\n",
    "        print(f\"name : {self.name}\")\n",
    "        print(f\"age: {self._age}\")\n",
    "        # print(f\"gender: {self._Person__gender}\")"
   ]
  },
  {
   "cell_type": "code",
   "execution_count": 19,
   "id": "fa36078f",
   "metadata": {},
   "outputs": [
    {
     "name": "stdout",
     "output_type": "stream",
     "text": [
      "name : Abhishek\n",
      "age: 25\n"
     ]
    }
   ],
   "source": [
    "emp = Employee(\"Abhishek\", 25, \"M\")\n",
    "emp.print_properties()"
   ]
  },
  {
   "cell_type": "code",
   "execution_count": 35,
   "id": "f2a3962b",
   "metadata": {},
   "outputs": [],
   "source": [
    "# Encapsulation with getter and setter\n",
    "class Person:\n",
    "    def __init__(self, name, age):\n",
    "        self.__name = name # private property\n",
    "        self._age = age # protected property\n",
    "    \n",
    "    # getter method for name   \n",
    "    def get_name(self):\n",
    "        return self.__name\n",
    "    \n",
    "    # setter method for name\n",
    "    def set_name(self, name):\n",
    "        self.__name = name\n",
    "        \n",
    "    def get_age(self):\n",
    "        return self._age\n",
    "    \n",
    "    def set_age(self, age):\n",
    "        if age > 0:\n",
    "            self._age = age\n",
    "        else:\n",
    "            print(\"Age cannot be negative\")\n",
    "\n"
   ]
  },
  {
   "cell_type": "code",
   "execution_count": 36,
   "id": "77be8562",
   "metadata": {},
   "outputs": [
    {
     "name": "stdout",
     "output_type": "stream",
     "text": [
      "Abhishek\n",
      "35\n",
      "Age cannot be negative\n",
      "Krishna\n",
      "108\n"
     ]
    }
   ],
   "source": [
    "person = Person(\"Abhishek\", 35)\n",
    "\n",
    "print(person.get_name())\n",
    "print(person.get_age())\n",
    "person.set_name(\"Krishna\")\n",
    "person.set_age(108)\n",
    "person.set_age(-20)\n",
    "print(person.get_name())\n",
    "print(person.get_age())"
   ]
  },
  {
   "cell_type": "code",
   "execution_count": null,
   "id": "88d9a40b",
   "metadata": {},
   "outputs": [],
   "source": []
  }
 ],
 "metadata": {
  "kernelspec": {
   "display_name": "venv (3.13.3)",
   "language": "python",
   "name": "python3"
  },
  "language_info": {
   "codemirror_mode": {
    "name": "ipython",
    "version": 3
   },
   "file_extension": ".py",
   "mimetype": "text/x-python",
   "name": "python",
   "nbconvert_exporter": "python",
   "pygments_lexer": "ipython3",
   "version": "3.13.3"
  }
 },
 "nbformat": 4,
 "nbformat_minor": 5
}
