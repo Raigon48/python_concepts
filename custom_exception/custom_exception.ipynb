{
 "cells": [
  {
   "cell_type": "markdown",
   "id": "1336cfca",
   "metadata": {},
   "source": [
    "Custom Exception ( Raise and Throw an exception)"
   ]
  },
  {
   "cell_type": "code",
   "execution_count": 1,
   "id": "9c29d9eb",
   "metadata": {},
   "outputs": [],
   "source": [
    "class Error(Exception):\n",
    "    pass\n",
    "\n",
    "class DobException(Error):\n",
    "    pass"
   ]
  },
  {
   "cell_type": "code",
   "execution_count": 5,
   "id": "08d71506",
   "metadata": {},
   "outputs": [
    {
     "name": "stdout",
     "output_type": "stream",
     "text": [
      "Age should be between 20 and 30\n"
     ]
    }
   ],
   "source": [
    "year = int(input(\"Enter you D.O.B.\"))\n",
    "age = 2025 - year\n",
    "\n",
    "try:\n",
    "    if age <= 30 and age >= 20:\n",
    "        print(\"You are eligible\")\n",
    "    else: \n",
    "        raise DobException\n",
    "except DobException:\n",
    "    print(\"Age should be between 20 and 30\")\n",
    "except Exception as ex:\n",
    "    print(ex)"
   ]
  },
  {
   "cell_type": "code",
   "execution_count": null,
   "id": "d1c451fd",
   "metadata": {},
   "outputs": [],
   "source": []
  }
 ],
 "metadata": {
  "kernelspec": {
   "display_name": "venv (3.13.3)",
   "language": "python",
   "name": "python3"
  },
  "language_info": {
   "codemirror_mode": {
    "name": "ipython",
    "version": 3
   },
   "file_extension": ".py",
   "mimetype": "text/x-python",
   "name": "python",
   "nbconvert_exporter": "python",
   "pygments_lexer": "ipython3",
   "version": "3.13.3"
  }
 },
 "nbformat": 4,
 "nbformat_minor": 5
}
