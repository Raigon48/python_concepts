{
 "cells": [
  {
   "cell_type": "markdown",
   "id": "a7c8cceb",
   "metadata": {},
   "source": [
    "Generators are simple way to create iterators. they use the yield keyword to produce a series of values lazily, which means they generate values on the fly and do not store them in memory."
   ]
  },
  {
   "cell_type": "code",
   "execution_count": 19,
   "id": "e3f225d5",
   "metadata": {},
   "outputs": [],
   "source": [
    "def square(n):\n",
    "    for i in range(n):\n",
    "        yield i**2"
   ]
  },
  {
   "cell_type": "code",
   "execution_count": 2,
   "id": "a8dcef79",
   "metadata": {},
   "outputs": [
    {
     "data": {
      "text/plain": [
       "<generator object square at 0x0000026CA46AF100>"
      ]
     },
     "execution_count": 2,
     "metadata": {},
     "output_type": "execute_result"
    }
   ],
   "source": [
    "square(3)"
   ]
  },
  {
   "cell_type": "code",
   "execution_count": 3,
   "id": "c6c60755",
   "metadata": {},
   "outputs": [
    {
     "name": "stdout",
     "output_type": "stream",
     "text": [
      "0\n",
      "1\n",
      "4\n"
     ]
    }
   ],
   "source": [
    "for i in square(3):\n",
    "    print(i)"
   ]
  },
  {
   "cell_type": "code",
   "execution_count": 22,
   "id": "6a4dec70",
   "metadata": {},
   "outputs": [],
   "source": [
    "squares = square(5)"
   ]
  },
  {
   "cell_type": "code",
   "execution_count": 23,
   "id": "3c4080b9",
   "metadata": {},
   "outputs": [
    {
     "data": {
      "text/plain": [
       "<generator object square at 0x0000026CA4EFE8E0>"
      ]
     },
     "execution_count": 23,
     "metadata": {},
     "output_type": "execute_result"
    }
   ],
   "source": [
    "squares"
   ]
  },
  {
   "cell_type": "code",
   "execution_count": 24,
   "id": "f86a640b",
   "metadata": {},
   "outputs": [
    {
     "name": "stdout",
     "output_type": "stream",
     "text": [
      "0\n",
      "1\n",
      "4\n",
      "9\n",
      "16\n"
     ]
    }
   ],
   "source": [
    "for i in squares:\n",
    "    print(i)"
   ]
  },
  {
   "cell_type": "code",
   "execution_count": 25,
   "id": "403db62b",
   "metadata": {},
   "outputs": [],
   "source": [
    "def my_generator():\n",
    "    yield 1\n",
    "    yield 2\n",
    "    yield 3"
   ]
  },
  {
   "cell_type": "code",
   "execution_count": 26,
   "id": "6c9e9aa9",
   "metadata": {},
   "outputs": [],
   "source": [
    "gen = my_generator()"
   ]
  },
  {
   "cell_type": "code",
   "execution_count": 27,
   "id": "f2476f12",
   "metadata": {},
   "outputs": [
    {
     "name": "stdout",
     "output_type": "stream",
     "text": [
      "1\n",
      "2\n",
      "3\n"
     ]
    }
   ],
   "source": [
    "for val in gen:\n",
    "    print(val)"
   ]
  },
  {
   "cell_type": "code",
   "execution_count": 35,
   "id": "65de982c",
   "metadata": {},
   "outputs": [],
   "source": [
    "def read_large_file():\n",
    "    with open('large_file.txt', 'r', encoding='utf-8') as file:\n",
    "        for line in file:\n",
    "            yield line"
   ]
  },
  {
   "cell_type": "code",
   "execution_count": 37,
   "id": "e6f30ce6",
   "metadata": {},
   "outputs": [
    {
     "name": "stdout",
     "output_type": "stream",
     "text": [
      "This page shares my best articles to read on topics like health, happiness, creativity, productivity and\n",
      "more. The central question that drives my work is, “How can we live better?” To answer that question, I\n",
      "like to write about science-based ways to solve practical problems.\n",
      "You’ll find interesting articles to read on topics like how to stop procrastinating as well as personal\n",
      "recommendations like my list of the best books to read and my minimalist travel guide. Ready to dive in?\n",
      "You can use the categories below to browse my best articles.\n"
     ]
    }
   ],
   "source": [
    "for line in read_large_file():\n",
    "    print(line.strip())"
   ]
  },
  {
   "cell_type": "code",
   "execution_count": 40,
   "id": "53ce8757",
   "metadata": {},
   "outputs": [
    {
     "name": "stdout",
     "output_type": "stream",
     "text": [
      "This page shares my best articles to read on topics like health, happiness, creativity, productivity and\n",
      "more. The central question that drives my work is, “How can we live better?” To answer that question, I\n",
      "like to write about science-based ways to solve practical problems.\n",
      "You’ll find interesting articles to read on topics like how to stop procrastinating as well as personal\n",
      "recommendations like my list of the best books to read and my minimalist travel guide. Ready to dive in?\n",
      "You can use the categories below to browse my best articles.\n"
     ]
    }
   ],
   "source": [
    "read = read_large_file()\n",
    "\n",
    "for line in read:\n",
    "    print(line.strip())"
   ]
  },
  {
   "cell_type": "code",
   "execution_count": null,
   "id": "3d8b1709",
   "metadata": {},
   "outputs": [],
   "source": []
  }
 ],
 "metadata": {
  "kernelspec": {
   "display_name": "venv (3.13.3)",
   "language": "python",
   "name": "python3"
  },
  "language_info": {
   "codemirror_mode": {
    "name": "ipython",
    "version": 3
   },
   "file_extension": ".py",
   "mimetype": "text/x-python",
   "name": "python",
   "nbconvert_exporter": "python",
   "pygments_lexer": "ipython3",
   "version": "3.13.3"
  }
 },
 "nbformat": 4,
 "nbformat_minor": 5
}
